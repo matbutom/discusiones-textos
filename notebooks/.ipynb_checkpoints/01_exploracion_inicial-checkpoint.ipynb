{
 "cells": [
  {
   "cell_type": "code",
   "execution_count": 4,
   "id": "a5a267d0-e10d-4bb9-9e98-dbac2a639b8b",
   "metadata": {},
   "outputs": [
    {
     "ename": "ModuleNotFoundError",
     "evalue": "No module named 'pandas'",
     "output_type": "error",
     "traceback": [
      "\u001b[31m---------------------------------------------------------------------------\u001b[39m",
      "\u001b[31mModuleNotFoundError\u001b[39m                       Traceback (most recent call last)",
      "\u001b[36mCell\u001b[39m\u001b[36m \u001b[39m\u001b[32mIn[4]\u001b[39m\u001b[32m, line 7\u001b[39m\n\u001b[32m      1\u001b[39m \u001b[38;5;66;03m# ==========================\u001b[39;00m\n\u001b[32m      2\u001b[39m \u001b[38;5;66;03m# 01_exploracion_inicial.ipynb\u001b[39;00m\n\u001b[32m      3\u001b[39m \u001b[38;5;66;03m# ==========================\u001b[39;00m\n\u001b[32m      4\u001b[39m \n\u001b[32m      5\u001b[39m \u001b[38;5;66;03m# 🔹 Importar librerías\u001b[39;00m\n\u001b[32m      6\u001b[39m \u001b[38;5;28;01mimport\u001b[39;00m\u001b[38;5;250m \u001b[39m\u001b[34;01mos\u001b[39;00m\n\u001b[32m----> \u001b[39m\u001b[32m7\u001b[39m \u001b[38;5;28;01mimport\u001b[39;00m\u001b[38;5;250m \u001b[39m\u001b[34;01mpandas\u001b[39;00m\u001b[38;5;250m \u001b[39m\u001b[38;5;28;01mas\u001b[39;00m\u001b[38;5;250m \u001b[39m\u001b[34;01mpd\u001b[39;00m\n\u001b[32m      8\u001b[39m \u001b[38;5;28;01mfrom\u001b[39;00m\u001b[38;5;250m \u001b[39m\u001b[34;01mcollections\u001b[39;00m\u001b[38;5;250m \u001b[39m\u001b[38;5;28;01mimport\u001b[39;00m Counter\n\u001b[32m     10\u001b[39m \u001b[38;5;28mprint\u001b[39m(\u001b[33m\"\u001b[39m\u001b[33mEntorno listo ✅\u001b[39m\u001b[33m\"\u001b[39m)\n",
      "\u001b[31mModuleNotFoundError\u001b[39m: No module named 'pandas'"
     ]
    }
   ],
   "source": [
    "# ==========================\n",
    "# 01_exploracion_inicial.ipynb\n",
    "# ==========================\n",
    "\n",
    "# 🔹 Importar librerías\n",
    "import os\n",
    "import pandas as pd\n",
    "from collections import Counter\n",
    "\n",
    "print(\"Entorno listo ✅\")\n",
    "\n",
    "\n",
    "# 🔹 Definir la ruta del archivo de transcripción\n",
    "ruta_archivo = \"../data/charla1.txt\"   # asegúrate de que exista este archivo\n",
    "\n",
    "# Leer el archivo de texto\n",
    "with open(ruta_archivo, \"r\", encoding=\"utf-8\") as f:\n",
    "    texto = f.read()\n",
    "\n",
    "# Mostrar los primeros 500 caracteres\n",
    "print(\"Vista previa del texto:\\n\")\n",
    "print(texto[:500])\n",
    "\n",
    "\n",
    "# 🔹 Guardar el texto en un DataFrame\n",
    "df = pd.DataFrame({\"texto\": [texto]})\n",
    "print(\"\\nEl DataFrame tiene la siguiente forma:\")\n",
    "display(df.head())\n",
    "\n",
    "\n",
    "# 🔹 Conteo de palabras básicas\n",
    "# Convertimos todo a minúsculas y separamos por espacios\n",
    "palabras = texto.lower().split()\n",
    "\n",
    "# Contamos la frecuencia\n",
    "conteo = Counter(palabras)\n",
    "\n",
    "# Mostramos las 10 palabras más comunes\n",
    "print(\"\\nTop 10 palabras más usadas:\\n\")\n",
    "for palabra, freq in conteo.most_common(10):\n",
    "    print(f\"{palabra}: {freq}\")\n"
   ]
  },
  {
   "cell_type": "code",
   "execution_count": null,
   "id": "317ee84e-782a-45e2-83f7-dc26ccdec3d1",
   "metadata": {},
   "outputs": [],
   "source": []
  }
 ],
 "metadata": {
  "kernelspec": {
   "display_name": "Python 3 (ipykernel)",
   "language": "python",
   "name": "python3"
  },
  "language_info": {
   "codemirror_mode": {
    "name": "ipython",
    "version": 3
   },
   "file_extension": ".py",
   "mimetype": "text/x-python",
   "name": "python",
   "nbconvert_exporter": "python",
   "pygments_lexer": "ipython3",
   "version": "3.13.7"
  }
 },
 "nbformat": 4,
 "nbformat_minor": 5
}
