{
 "cells": [
  {
   "cell_type": "code",
   "execution_count": 1,
   "id": "a5a267d0-e10d-4bb9-9e98-dbac2a639b8b",
   "metadata": {},
   "outputs": [
    {
     "name": "stdout",
     "output_type": "stream",
     "text": [
      "Entorno listo ✅\n"
     ]
    },
    {
     "ename": "FileNotFoundError",
     "evalue": "[Errno 2] No such file or directory: '../data/charla1.txt'",
     "output_type": "error",
     "traceback": [
      "\u001b[31m---------------------------------------------------------------------------\u001b[39m",
      "\u001b[31mFileNotFoundError\u001b[39m                         Traceback (most recent call last)",
      "\u001b[36mCell\u001b[39m\u001b[36m \u001b[39m\u001b[32mIn[1]\u001b[39m\u001b[32m, line 17\u001b[39m\n\u001b[32m     14\u001b[39m ruta_archivo = \u001b[33m\"\u001b[39m\u001b[33m../data/charla1.txt\u001b[39m\u001b[33m\"\u001b[39m   \u001b[38;5;66;03m# asegúrate de que exista este archivo\u001b[39;00m\n\u001b[32m     16\u001b[39m \u001b[38;5;66;03m# Leer el archivo de texto\u001b[39;00m\n\u001b[32m---> \u001b[39m\u001b[32m17\u001b[39m \u001b[38;5;28;01mwith\u001b[39;00m \u001b[38;5;28;43mopen\u001b[39;49m\u001b[43m(\u001b[49m\u001b[43mruta_archivo\u001b[49m\u001b[43m,\u001b[49m\u001b[43m \u001b[49m\u001b[33;43m\"\u001b[39;49m\u001b[33;43mr\u001b[39;49m\u001b[33;43m\"\u001b[39;49m\u001b[43m,\u001b[49m\u001b[43m \u001b[49m\u001b[43mencoding\u001b[49m\u001b[43m=\u001b[49m\u001b[33;43m\"\u001b[39;49m\u001b[33;43mutf-8\u001b[39;49m\u001b[33;43m\"\u001b[39;49m\u001b[43m)\u001b[49m \u001b[38;5;28;01mas\u001b[39;00m f:\n\u001b[32m     18\u001b[39m     texto = f.read()\n\u001b[32m     20\u001b[39m \u001b[38;5;66;03m# Mostrar los primeros 500 caracteres\u001b[39;00m\n",
      "\u001b[36mFile \u001b[39m\u001b[32m~/github/matbutom/discusiones-texto/venv/lib/python3.13/site-packages/IPython/core/interactiveshell.py:343\u001b[39m, in \u001b[36m_modified_open\u001b[39m\u001b[34m(file, *args, **kwargs)\u001b[39m\n\u001b[32m    336\u001b[39m \u001b[38;5;28;01mif\u001b[39;00m file \u001b[38;5;129;01min\u001b[39;00m {\u001b[32m0\u001b[39m, \u001b[32m1\u001b[39m, \u001b[32m2\u001b[39m}:\n\u001b[32m    337\u001b[39m     \u001b[38;5;28;01mraise\u001b[39;00m \u001b[38;5;167;01mValueError\u001b[39;00m(\n\u001b[32m    338\u001b[39m         \u001b[33mf\u001b[39m\u001b[33m\"\u001b[39m\u001b[33mIPython won\u001b[39m\u001b[33m'\u001b[39m\u001b[33mt let you open fd=\u001b[39m\u001b[38;5;132;01m{\u001b[39;00mfile\u001b[38;5;132;01m}\u001b[39;00m\u001b[33m by default \u001b[39m\u001b[33m\"\u001b[39m\n\u001b[32m    339\u001b[39m         \u001b[33m\"\u001b[39m\u001b[33mas it is likely to crash IPython. If you know what you are doing, \u001b[39m\u001b[33m\"\u001b[39m\n\u001b[32m    340\u001b[39m         \u001b[33m\"\u001b[39m\u001b[33myou can use builtins\u001b[39m\u001b[33m'\u001b[39m\u001b[33m open.\u001b[39m\u001b[33m\"\u001b[39m\n\u001b[32m    341\u001b[39m     )\n\u001b[32m--> \u001b[39m\u001b[32m343\u001b[39m \u001b[38;5;28;01mreturn\u001b[39;00m \u001b[43mio_open\u001b[49m\u001b[43m(\u001b[49m\u001b[43mfile\u001b[49m\u001b[43m,\u001b[49m\u001b[43m \u001b[49m\u001b[43m*\u001b[49m\u001b[43margs\u001b[49m\u001b[43m,\u001b[49m\u001b[43m \u001b[49m\u001b[43m*\u001b[49m\u001b[43m*\u001b[49m\u001b[43mkwargs\u001b[49m\u001b[43m)\u001b[49m\n",
      "\u001b[31mFileNotFoundError\u001b[39m: [Errno 2] No such file or directory: '../data/charla1.txt'"
     ]
    }
   ],
   "source": [
    "# ==========================\n",
    "# 01_exploracion_inicial.ipynb\n",
    "# ==========================\n",
    "\n",
    "# 🔹 Importar librerías\n",
    "import os\n",
    "import pandas as pd\n",
    "from collections import Counter\n",
    "\n",
    "print(\"Entorno listo ✅\")\n",
    "\n",
    "\n",
    "# 🔹 Definir la ruta del archivo de transcripción\n",
    "ruta_archivo = \"../data/charla1.txt\"   # asegúrate de que exista este archivo\n",
    "\n",
    "# Leer el archivo de texto\n",
    "with open(ruta_archivo, \"r\", encoding=\"utf-8\") as f:\n",
    "    texto = f.read()\n",
    "\n",
    "# Mostrar los primeros 500 caracteres\n",
    "print(\"Vista previa del texto:\\n\")\n",
    "print(texto[:500])\n",
    "\n",
    "\n",
    "# 🔹 Guardar el texto en un DataFrame\n",
    "df = pd.DataFrame({\"texto\": [texto]})\n",
    "print(\"\\nEl DataFrame tiene la siguiente forma:\")\n",
    "display(df.head())\n",
    "\n",
    "\n",
    "# 🔹 Conteo de palabras básicas\n",
    "# Convertimos todo a minúsculas y separamos por espacios\n",
    "palabras = texto.lower().split()\n",
    "\n",
    "# Contamos la frecuencia\n",
    "conteo = Counter(palabras)\n",
    "\n",
    "# Mostramos las 10 palabras más comunes\n",
    "print(\"\\nTop 10 palabras más usadas:\\n\")\n",
    "for palabra, freq in conteo.most_common(10):\n",
    "    print(f\"{palabra}: {freq}\")\n"
   ]
  },
  {
   "cell_type": "code",
   "execution_count": null,
   "id": "317ee84e-782a-45e2-83f7-dc26ccdec3d1",
   "metadata": {},
   "outputs": [],
   "source": []
  },
  {
   "cell_type": "code",
   "execution_count": null,
   "id": "27d7ac77-fe96-4e15-a77d-2b4f1ea2c0de",
   "metadata": {},
   "outputs": [],
   "source": []
  },
  {
   "cell_type": "code",
   "execution_count": null,
   "id": "3eb98358-a8dd-48be-93b6-9a2941e6cdb7",
   "metadata": {},
   "outputs": [],
   "source": []
  }
 ],
 "metadata": {
  "kernelspec": {
   "display_name": "Python 3 (ipykernel)",
   "language": "python",
   "name": "python3"
  },
  "language_info": {
   "codemirror_mode": {
    "name": "ipython",
    "version": 3
   },
   "file_extension": ".py",
   "mimetype": "text/x-python",
   "name": "python",
   "nbconvert_exporter": "python",
   "pygments_lexer": "ipython3",
   "version": "3.13.7"
  }
 },
 "nbformat": 4,
 "nbformat_minor": 5
}
