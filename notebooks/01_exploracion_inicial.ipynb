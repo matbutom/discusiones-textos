{
 "cells": [
  {
   "cell_type": "code",
   "execution_count": null,
   "id": "d07d505d-7c12-45d8-9314-2cfd678551c9",
   "metadata": {},
   "outputs": [],
   "source": [
    "%pip install pandas"
   ]
  },
  {
   "cell_type": "code",
   "execution_count": 5,
   "id": "a5a267d0-e10d-4bb9-9e98-dbac2a639b8b",
   "metadata": {},
   "outputs": [
    {
     "ename": "ModuleNotFoundError",
     "evalue": "No module named 'pandas'",
     "output_type": "error",
     "traceback": [
      "\u001b[31m---------------------------------------------------------------------------\u001b[39m",
      "\u001b[31mModuleNotFoundError\u001b[39m                       Traceback (most recent call last)",
      "\u001b[36mCell\u001b[39m\u001b[36m \u001b[39m\u001b[32mIn[5]\u001b[39m\u001b[32m, line 4\u001b[39m\n\u001b[32m      2\u001b[39m \u001b[38;5;28;01mimport\u001b[39;00m\u001b[38;5;250m \u001b[39m\u001b[34;01msys\u001b[39;00m\n\u001b[32m      3\u001b[39m \u001b[38;5;28;01mimport\u001b[39;00m\u001b[38;5;250m \u001b[39m\u001b[34;01mos\u001b[39;00m\n\u001b[32m----> \u001b[39m\u001b[32m4\u001b[39m \u001b[38;5;28;01mimport\u001b[39;00m\u001b[38;5;250m \u001b[39m\u001b[34;01mpandas\u001b[39;00m\u001b[38;5;250m \u001b[39m\u001b[38;5;28;01mas\u001b[39;00m\u001b[38;5;250m \u001b[39m\u001b[34;01mpd\u001b[39;00m\n\u001b[32m      5\u001b[39m \u001b[38;5;28;01mfrom\u001b[39;00m\u001b[38;5;250m \u001b[39m\u001b[34;01mcollections\u001b[39;00m\u001b[38;5;250m \u001b[39m\u001b[38;5;28;01mimport\u001b[39;00m Counter\n\u001b[32m      6\u001b[39m \u001b[38;5;28;01mfrom\u001b[39;00m\u001b[38;5;250m \u001b[39m\u001b[34;01mscripts\u001b[39;00m\u001b[34;01m.\u001b[39;00m\u001b[34;01manalisis_texto\u001b[39;00m\u001b[38;5;250m \u001b[39m\u001b[38;5;28;01mimport\u001b[39;00m palabras_mas_comunes\n",
      "\u001b[31mModuleNotFoundError\u001b[39m: No module named 'pandas'"
     ]
    }
   ],
   "source": [
    "# importar modulos necesarios\n",
    "import sys\n",
    "import os\n",
    "import pandas as pd\n",
    "from collections import Counter\n",
    "from scripts.analisis_texto import palabras_mas_comunes"
   ]
  },
  {
   "cell_type": "code",
   "execution_count": 7,
   "id": "cbe80446-2631-4b47-ad6b-c8895ff24ce2",
   "metadata": {},
   "outputs": [],
   "source": [
    "# Agregar la carpeta raíz del proyecto al path para poder importar scripts\n",
    "sys.path.append(os.path.abspath(\"..\"))\n",
    "\n",
    "# Definir la ruta del archivo de transcripción\n",
    "ruta_archivo = \"../data/nodosur.txt\"\n",
    "\n",
    "# Leer el archivo de texto\n",
    "with open(ruta_archivo, \"r\", encoding=\"utf-8\") as f:\n",
    "    texto = f.read()"
   ]
  },
  {
   "cell_type": "code",
   "execution_count": 9,
   "id": "317ee84e-782a-45e2-83f7-dc26ccdec3d1",
   "metadata": {},
   "outputs": [
    {
     "name": "stdout",
     "output_type": "stream",
     "text": [
      "NODO SUR:\n",
      "Para muchas personas un trasplante no es solo un procedimiento médico y es la oportunidad de poder seguir viviendo. Y en Chile no existe un real acompañamiento. Para estas personas, lo que pone en riesgo es la efectividad de los trasplantes. Una segunda vida sin acompañamiento no es vida. Soy Antonia Catalán y vengo en representación del equipo Nodo Sur con nuestro proyecto que busca mejorar la calidad de vida de muchas personas. ¿Partimos?\n",
      "Partimos con una investigación de escritorio \n"
     ]
    },
    {
     "ename": "NameError",
     "evalue": "name 'pd' is not defined",
     "output_type": "error",
     "traceback": [
      "\u001b[31m---------------------------------------------------------------------------\u001b[39m",
      "\u001b[31mNameError\u001b[39m                                 Traceback (most recent call last)",
      "\u001b[36mCell\u001b[39m\u001b[36m \u001b[39m\u001b[32mIn[9]\u001b[39m\u001b[32m, line 5\u001b[39m\n\u001b[32m      2\u001b[39m \u001b[38;5;28mprint\u001b[39m(texto[:\u001b[32m500\u001b[39m])\n\u001b[32m      4\u001b[39m \u001b[38;5;66;03m# Guardar el texto en un DataFrame para análisis posterior\u001b[39;00m\n\u001b[32m----> \u001b[39m\u001b[32m5\u001b[39m df = \u001b[43mpd\u001b[49m.DataFrame({\u001b[33m\"\u001b[39m\u001b[33mtexto\u001b[39m\u001b[33m\"\u001b[39m: [texto]})\n\u001b[32m      6\u001b[39m display(df.head())\n\u001b[32m      8\u001b[39m \u001b[38;5;66;03m# Obtener las 10 palabras más frecuentes usando el script\u001b[39;00m\n",
      "\u001b[31mNameError\u001b[39m: name 'pd' is not defined"
     ]
    }
   ],
   "source": [
    "# Mostrar los primeros 500 caracteres del texto\n",
    "print(texto[:500])\n",
    "\n",
    "# Guardar el texto en un DataFrame para análisis posterior\n",
    "df = pd.DataFrame({\"texto\": [texto]})\n",
    "display(df.head())\n",
    "\n",
    "# Obtener las 10 palabras más frecuentes usando el script\n",
    "top_palabras = palabras_mas_comunes(texto, n=10)\n",
    "\n",
    "# Mostrar las palabras más comunes con su frecuencia\n",
    "for palabra, freq in top_palabras:\n",
    "    print(f\"{palabra}: {freq}\")\n"
   ]
  },
  {
   "cell_type": "code",
   "execution_count": null,
   "id": "27d7ac77-fe96-4e15-a77d-2b4f1ea2c0de",
   "metadata": {},
   "outputs": [],
   "source": []
  },
  {
   "cell_type": "code",
   "execution_count": null,
   "id": "3eb98358-a8dd-48be-93b6-9a2941e6cdb7",
   "metadata": {},
   "outputs": [],
   "source": []
  }
 ],
 "metadata": {
  "kernelspec": {
   "display_name": "Python 3 (ipykernel)",
   "language": "python",
   "name": "python3"
  },
  "language_info": {
   "codemirror_mode": {
    "name": "ipython",
    "version": 3
   },
   "file_extension": ".py",
   "mimetype": "text/x-python",
   "name": "python",
   "nbconvert_exporter": "python",
   "pygments_lexer": "ipython3",
   "version": "3.13.7"
  }
 },
 "nbformat": 4,
 "nbformat_minor": 5
}
