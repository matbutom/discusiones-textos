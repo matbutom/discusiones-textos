{
 "cells": [
  {
   "cell_type": "code",
   "execution_count": 5,
   "id": "a5a267d0-e10d-4bb9-9e98-dbac2a639b8b",
   "metadata": {},
   "outputs": [
    {
     "name": "stdout",
     "output_type": "stream",
     "text": [
      "NODO SUR:\n",
      "Para muchas personas un trasplante no es solo un procedimiento médico y es la oportunidad de poder seguir viviendo. Y en Chile no existe un real acompañamiento. Para estas personas, lo que pone en riesgo es la efectividad de los trasplantes. Una segunda vida sin acompañamiento no es vida. Soy Antonia Catalán y vengo en representación del equipo Nodo Sur con nuestro proyecto que busca mejorar la calidad de vida de muchas personas. ¿Partimos?\n",
      "Partimos con una investigación de escritorio \n"
     ]
    },
    {
     "data": {
      "text/html": [
       "<div>\n",
       "<style scoped>\n",
       "    .dataframe tbody tr th:only-of-type {\n",
       "        vertical-align: middle;\n",
       "    }\n",
       "\n",
       "    .dataframe tbody tr th {\n",
       "        vertical-align: top;\n",
       "    }\n",
       "\n",
       "    .dataframe thead th {\n",
       "        text-align: right;\n",
       "    }\n",
       "</style>\n",
       "<table border=\"1\" class=\"dataframe\">\n",
       "  <thead>\n",
       "    <tr style=\"text-align: right;\">\n",
       "      <th></th>\n",
       "      <th>texto</th>\n",
       "    </tr>\n",
       "  </thead>\n",
       "  <tbody>\n",
       "    <tr>\n",
       "      <th>0</th>\n",
       "      <td>NODO SUR:\\nPara muchas personas un trasplante ...</td>\n",
       "    </tr>\n",
       "  </tbody>\n",
       "</table>\n",
       "</div>"
      ],
      "text/plain": [
       "                                               texto\n",
       "0  NODO SUR:\\nPara muchas personas un trasplante ..."
      ]
     },
     "metadata": {},
     "output_type": "display_data"
    },
    {
     "name": "stdout",
     "output_type": "stream",
     "text": [
      "no: 5\n",
      "vida: 4\n",
      "personas: 3\n",
      "nodo: 2\n",
      "sur: 2\n",
      "muchas: 2\n",
      "trasplante: 2\n",
      "solo: 2\n",
      "medico: 2\n",
      "poder: 2\n"
     ]
    }
   ],
   "source": [
    "# Importar librerías necesarias\n",
    "import sys\n",
    "import os\n",
    "import pandas as pd\n",
    "from collections import Counter\n",
    "\n",
    "# Agregar la carpeta raíz del proyecto al path para poder importar scripts\n",
    "sys.path.append(os.path.abspath(\"..\"))\n",
    "\n",
    "# Importar la función del script externo\n",
    "from scripts.analisis_texto import palabras_mas_comunes\n",
    "\n",
    "# Definir la ruta del archivo de transcripción\n",
    "ruta_archivo = \"../data/nodosur.txt\"\n",
    "\n",
    "# Leer el archivo de texto\n",
    "with open(ruta_archivo, \"r\", encoding=\"utf-8\") as f:\n",
    "    texto = f.read()\n",
    "\n",
    "# Mostrar los primeros 500 caracteres del texto\n",
    "print(texto[:500])\n",
    "\n",
    "# Guardar el texto en un DataFrame para análisis posterior\n",
    "df = pd.DataFrame({\"texto\": [texto]})\n",
    "display(df.head())\n",
    "\n",
    "# Obtener las 10 palabras más frecuentes usando el script\n",
    "top_palabras = palabras_mas_comunes(texto, n=10)\n",
    "\n",
    "# Mostrar las palabras más comunes con su frecuencia\n",
    "for palabra, freq in top_palabras:\n",
    "    print(f\"{palabra}: {freq}\")\n"
   ]
  },
  {
   "cell_type": "code",
   "execution_count": null,
   "id": "317ee84e-782a-45e2-83f7-dc26ccdec3d1",
   "metadata": {},
   "outputs": [],
   "source": []
  },
  {
   "cell_type": "code",
   "execution_count": null,
   "id": "27d7ac77-fe96-4e15-a77d-2b4f1ea2c0de",
   "metadata": {},
   "outputs": [],
   "source": []
  },
  {
   "cell_type": "code",
   "execution_count": null,
   "id": "3eb98358-a8dd-48be-93b6-9a2941e6cdb7",
   "metadata": {},
   "outputs": [],
   "source": []
  }
 ],
 "metadata": {
  "kernelspec": {
   "display_name": "Python 3 (ipykernel)",
   "language": "python",
   "name": "python3"
  },
  "language_info": {
   "codemirror_mode": {
    "name": "ipython",
    "version": 3
   },
   "file_extension": ".py",
   "mimetype": "text/x-python",
   "name": "python",
   "nbconvert_exporter": "python",
   "pygments_lexer": "ipython3",
   "version": "3.13.7"
  }
 },
 "nbformat": 4,
 "nbformat_minor": 5
}
